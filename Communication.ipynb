{
 "cells": [
  {
   "cell_type": "code",
   "execution_count": 1,
   "metadata": {},
   "outputs": [
    {
     "name": "stderr",
     "output_type": "stream",
     "text": [
      "/opt/miniconda3/envs/projectespana/lib/python3.9/site-packages/scipy/__init__.py:146: UserWarning: A NumPy version >=1.16.5 and <1.23.0 is required for this version of SciPy (detected version 1.23.5\n",
      "  warnings.warn(f\"A NumPy version >={np_minversion} and <{np_maxversion}\"\n"
     ]
    }
   ],
   "source": [
    "import numpy as np\n",
    "import matplotlib.pyplot as plt\n",
    "import os\n",
    "import glob\n",
    "from ast import literal_eval as make_tuple\n",
    "from scipy.integrate import quad\n",
    "import magpylib as mp\n",
    "from sklearn.neural_network import MLPRegressor\n",
    "from sklearn.model_selection import train_test_split\n",
    "import seaborn as sns\n",
    "import pandas as pd\n",
    "from sklearn.neighbors import KNeighborsRegressor\n",
    "from sklearn.metrics import mean_absolute_error\n",
    "import shutil"
   ]
  },
  {
   "cell_type": "code",
   "execution_count": null,
   "metadata": {},
   "outputs": [],
   "source": [
    "def read_complex_binary2(filename):\n",
    "    \"\"\" Read file of float32 into complex array.\n",
    "    \"\"\"\n",
    "\n",
    "    with open(filename, 'rb') as f:\n",
    "        bytes = f.read()\n",
    "    data = np.frombuffer(bytes, dtype=np.float32).reshape(-1, 2)\n",
    "    data = data[:, 0] + 1j*data[:, 1]\n",
    "    return data\n",
    "\n",
    "# Read the data\n",
    "file_path = \"/home/jshenoy2/ProjectEspana/oldpcbairbr/\"\n",
    "Ber_Mat  = np.zeros((10, 10))  # Low Peak Channel 1\n",
    "\n",
    "\n",
    "for files in glob.glob(file_path+\"*\"):\n",
    "    single_file = files.split(\"/\")[-1]\n",
    "    info_list = single_file.split(\"_\")\n",
    "    print(info_list)\n",
    "    channel_value = info_list[1]\n",
    "    coordinate = info_list[0]\n",
    "    coordinate = make_tuple(coordinate)\n",
    "    x = int(coordinate[0]/10)\n",
    "    y = int(coordinate[1]/10)\n",
    "    signal = read_complex_binary2(files)\n",
    "    transformed_fft_sig = np.abs(np.fft.fftshift(np.fft.fft(signal[0:8000000])))\n",
    "    sig1 = transformed_fft_sig[1340000:1370000]\n",
    "    sig2 = transformed_fft_sig[1540000:1570000]    \n",
    "\n",
    "    BER = get_ber(sig)\n",
    "    Ber_mat[x][y] = get_ber(sig)\n",
    "print(\"DONE Processing\")"
   ]
  },
  {
   "cell_type": "code",
   "execution_count": null,
   "metadata": {},
   "outputs": [],
   "source": [
    "def get_ber(signal):\n",
    "    "
   ]
  }
 ],
 "metadata": {
  "kernelspec": {
   "display_name": "projectespana",
   "language": "python",
   "name": "python3"
  },
  "language_info": {
   "codemirror_mode": {
    "name": "ipython",
    "version": 3
   },
   "file_extension": ".py",
   "mimetype": "text/x-python",
   "name": "python",
   "nbconvert_exporter": "python",
   "pygments_lexer": "ipython3",
   "version": "3.9.16"
  },
  "orig_nbformat": 4,
  "vscode": {
   "interpreter": {
    "hash": "edb1c3b8d889591706012f7498e9c0b35f4210fa85a13d930c75a5c645401cc5"
   }
  }
 },
 "nbformat": 4,
 "nbformat_minor": 2
}
